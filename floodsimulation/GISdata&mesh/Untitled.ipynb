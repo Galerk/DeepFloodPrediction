{
 "cells": [
  {
   "cell_type": "code",
   "execution_count": null,
   "metadata": {},
   "outputs": [],
   "source": [
    "# small Austin Area\n",
    "import anuga\n",
    "import numpy\n",
    "\n",
    "cache = False\n",
    "verbose = True\n",
    "\n",
    "# Define Scenario\n",
    "# the final goal is to define a rainfall scenario\n",
    "# Here, in order to test, we follow the example to first have a fixed wave scenario\n",
    "scenario = 'fixed_wave'\n",
    "name_stem = 'aw_small'\n",
    "meshname = name_stem + '.msh'\n",
    "\n",
    "gage_file_name = 'aw_small_gauges.csv'\n",
    "\n",
    "# bounding polygon for study area\n",
    "bounding_polygon = anuga.read_polygon('aw_small_extent.csv')\n",
    "A = anuga.polygon_area(bounding_polygon) / 1000000.0\n",
    "print 'Area of bounding polygon = %.2f km^2' % A\n",
    "\n",
    "# Read interior polygons\n",
    "#poly_river = anuga.read_polygon('aw_small_river.csv')\n",
    "\n",
    "# the greater the base_scale is the less the triangle it will be divided into\n",
    "just_fitting = False\n",
    "base_scale = 5000\n",
    "background_res = 10000\n",
    "river_res = base_scale\n",
    "city_res = base_scale\n",
    "\n",
    "#interior_regions = [[poly_river,river_res]]\n",
    "\n",
    "tide = 0.0"
   ]
  }
 ],
 "metadata": {
  "kernelspec": {
   "display_name": "Python 2",
   "language": "python",
   "name": "python2"
  },
  "language_info": {
   "codemirror_mode": {
    "name": "ipython",
    "version": 2
   },
   "file_extension": ".py",
   "mimetype": "text/x-python",
   "name": "python",
   "nbconvert_exporter": "python",
   "pygments_lexer": "ipython2",
   "version": "2.7.14"
  },
  "varInspector": {
   "cols": {
    "lenName": 16,
    "lenType": 16,
    "lenVar": 40
   },
   "kernels_config": {
    "python": {
     "delete_cmd_postfix": "",
     "delete_cmd_prefix": "del ",
     "library": "var_list.py",
     "varRefreshCmd": "print(var_dic_list())"
    },
    "r": {
     "delete_cmd_postfix": ") ",
     "delete_cmd_prefix": "rm(",
     "library": "var_list.r",
     "varRefreshCmd": "cat(var_dic_list()) "
    }
   },
   "types_to_exclude": [
    "module",
    "function",
    "builtin_function_or_method",
    "instance",
    "_Feature"
   ],
   "window_display": false
  }
 },
 "nbformat": 4,
 "nbformat_minor": 2
}
