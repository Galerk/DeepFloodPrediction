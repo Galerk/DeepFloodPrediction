{
 "cells": [
  {
   "cell_type": "code",
   "execution_count": 2,
   "metadata": {},
   "outputs": [],
   "source": [
    "# input preparation for Austin west small area\n",
    "import anuga\n",
    "import numpy\n",
    "import pandas\n",
    "import csv"
   ]
  },
  {
   "cell_type": "code",
   "execution_count": 2,
   "metadata": {},
   "outputs": [],
   "source": [
    "# define the austin west small area boundary polygon\n",
    "east_1 = 613355.00\n",
    "east_2 = 635235.00\n",
    "north_1 = 3338987.00\n",
    "north_2 = 3359785.00\n"
   ]
  },
  {
   "cell_type": "code",
   "execution_count": 7,
   "metadata": {},
   "outputs": [],
   "source": [
    "# boundary inflow polygon area\n",
    "\n",
    "num = 5\n",
    "\n",
    "base = 613855.0\n",
    "step = (634700.0 - 613855.0)/5.0\n",
    "for j in range(num):\n",
    "    temp = [[ base + j*step, 3359500.0],[ base + (j+1)*step, 3359500.0],\n",
    "            [ base + (j+1)*step, 3359300.0],[base + j*step, 3359300.0]]\n",
    "    temp = np.asarray(temp)\n",
    "    name = \"boundinflow_1_{0}.csv\".format(j)\n",
    "    np.savetxt(name, temp, delimiter = \",\")\n",
    "\n",
    "base = 3357685.0\n",
    "step = (3357585.0-3339300.0)/5.0\n",
    "for j in range(num):\n",
    "    temp = [[613555.0, base - j*step],[613755.0, base - j*step],\n",
    "            [613755.0, base - (j+1)*step],[613555.0, base - (j+1)*step]]\n",
    "    temp = np.asarray(temp)\n",
    "    name = \"boundinflow_2_{0}.csv\".format(j)\n",
    "    np.savetxt(name, temp, delimiter = \",\")\n",
    "\n",
    "base = 613855.0\n",
    "step = (634700.0 - 613855.0)/5.0\n",
    "for j in range(num):\n",
    "    temp = [[ base + j*step, 3339500.0],[ base + (j+1)*step, 3339500.0],\n",
    "            [ base + (j+1)*step, 3339300.0],[base + j*step, 3339300.0]]\n",
    "    temp = np.asarray(temp)\n",
    "    name = \"boundinflow_3_{0}.csv\".format(j)\n",
    "    np.savetxt(name, temp, delimiter = \",\")"
   ]
  },
  {
   "cell_type": "code",
   "execution_count": 4,
   "metadata": {},
   "outputs": [],
   "source": [
    "# define gauges\n",
    "east_1 = 613355.00\n",
    "east_2 = 635235.00\n",
    "north_1 = 3338987.00\n",
    "north_2 = 3359785.00\n",
    "east_num = 100\n",
    "north_num = 100\n",
    "gauges = []\n",
    "gauges.append(['easting','northing','name','elevation'])\n",
    "east_step = (east_2 - east_1) / (east_num + 1)\n",
    "north_step = (north_2 - north_1) / (north_num + 1)\n",
    "for i in range(east_num):\n",
    "    for j in range(north_num):\n",
    "        temp = [east_1 + (i+1)*east_step, north_1 + (j+1)*north_step, \"gauge_{0}{1}\".format(i,j), 0]\n",
    "        gauges.append(temp)\n",
    "with open(\"aw_small_gauges_100.csv\", \"wb\") as f:\n",
    "    writer = csv.writer(f)\n",
    "    writer.writerows(gauges)"
   ]
  },
  {
   "cell_type": "code",
   "execution_count": 55,
   "metadata": {},
   "outputs": [],
   "source": [
    "# define new gauges\n",
    "gauges_2 = []\n",
    "gauges_2.append(['easting','northing','name','elevation'])\n",
    "\n",
    "temp = [634506.0, 3343667.0, \"gauge_1\", 0]\n",
    "gauges_2.append(temp)\n",
    "temp = [629314.63, 3344018.6, \"gauge_2\", 0]\n",
    "gauges_2.append(temp)\n",
    "temp = [631454.586, 3346129.0, \"gauge_3\", 0]\n",
    "gauges_2.append(temp)\n",
    "temp = [630650.0, 3348031.0, \"gauge_4\", 0]\n",
    "gauges_2.append(temp)\n",
    "temp = [628065.63, 3347930.6, \"gauge_5\", 0]\n",
    "gauges_2.append(temp)\n",
    "temp = [625784.63, 3346684.24, \"gauge_6\", 0]\n",
    "gauges_2.append(temp)\n",
    "temp = [624271.63, 3347257.6, \"gauge_7\", 0]\n",
    "gauges_2.append(temp)\n",
    "temp = [623328.63, 3346991.6, \"gauge_8\", 0]\n",
    "gauges_2.append(temp)\n",
    "temp = [621048.63, 3347950.6, \"gauge_9\", 0]\n",
    "gauges_2.append(temp)\n",
    "temp = [619723.63, 3348832.6, \"gauge_10\", 0]\n",
    "gauges_2.append(temp)\n",
    "temp = [619723.63, 3349079.6, \"gauge_11\", 0]\n",
    "gauges_2.append(temp)\n",
    "temp = [618339.63, 3348669.6, \"gauge_12\", 0]\n",
    "gauges_2.append(temp)\n",
    "temp = [617570.63, 3350231.6, \"gauge_13\", 0]\n",
    "gauges_2.append(temp)\n",
    "temp = [616752.675, 3351639.6, \"gauge_14\", 0]\n",
    "gauges_2.append(temp)\n",
    "temp = [616727.63, 3352287.6, \"gauge_15\", 0]\n",
    "gauges_2.append(temp)\n",
    "temp = [617548.63, 3353804.6, \"gauge_16\", 0]\n",
    "gauges_2.append(temp)\n",
    "temp = [617202.63, 3356190.6, \"gauge_17\", 0]\n",
    "gauges_2.append(temp)\n",
    "temp = [616043.63, 3357852.6, \"gauge_18\", 0]\n",
    "gauges_2.append(temp)\n",
    "temp = [613697.5, 3356877.7, \"gauge_19\", 0]\n",
    "gauges_2.append(temp)\n",
    "temp = [624260.63, 3346250.6, \"gauge_20\", 0]\n",
    "gauges_2.append(temp)\n",
    "temp = [622164.63, 3347436.6, \"gauge_21\", 0]\n",
    "gauges_2.append(temp)\n",
    "temp = [622592.63, 3349124.6, \"gauge_22\", 0]\n",
    "gauges_2.append(temp)\n",
    "temp = [621214.63, 3350031.6, \"gauge_23\", 0]\n",
    "gauges_2.append(temp)\n",
    "temp = [621699.63, 3351439.6, \"gauge_24\", 0]\n",
    "gauges_2.append(temp)\n",
    "temp = [622484.63, 3353222.6, \"gauge_25\", 0]\n",
    "gauges_2.append(temp)\n",
    "temp = [629726.63, 3350047.6, \"gauge_26\", 0]\n",
    "gauges_2.append(temp)\n",
    "temp = [626565.63, 3347742.6, \"gauge_27\", 0]\n",
    "gauges_2.append(temp)\n",
    "temp = [622450.63, 3347861.6, \"gauge_28\", 0]\n",
    "gauges_2.append(temp)\n",
    "temp = [617251.63, 3351229.6, \"gauge_29\", 0]\n",
    "gauges_2.append(temp)\n",
    "temp = [618228.63, 3353864.6, \"gauge_30\", 0]\n",
    "gauges_2.append(temp)\n",
    "temp = [627529.63, 3346846.6, \"gauge_31\", 0]\n",
    "gauges_2.append(temp)\n",
    "temp = [624492.63, 3346939.6, \"gauge_32\", 0]\n",
    "gauges_2.append(temp)\n",
    "temp = [621463.63, 3356952.6, \"gauge_33\", 0]\n",
    "gauges_2.append(temp)\n",
    "temp = [620120.63, 3348493.6, \"gauge_34\", 0]\n",
    "gauges_2.append(temp)\n",
    "temp = [618553.63, 3348751.6, \"gauge_35\", 0]\n",
    "gauges_2.append(temp)\n",
    "temp = [618403.63, 3353851.6, \"gauge_36\", 0]\n",
    "gauges_2.append(temp)\n",
    "temp = [618837.63, 3353676.6, \"gauge_37\", 0]\n",
    "gauges_2.append(temp)\n",
    "temp = [619943.63, 3351214.6, \"gauge_38\", 0]\n",
    "gauges_2.append(temp)\n",
    "temp = [618887.63, 3351325.6, \"gauge_39\", 0]\n",
    "gauges_2.append(temp)\n",
    "temp = [617968.63, 3351209.6, \"gauge_40\", 0]\n",
    "gauges_2.append(temp)\n",
    "temp = [616708.63, 3352271.6, \"gauge_41\", 0]\n",
    "gauges_2.append(temp)\n",
    "temp = [616696.700,  3351594.169, \"gauge_42\", 0]\n",
    "gauges_2.append(temp)\n",
    "east_num = 10\n",
    "north_num = 10\n",
    "east_2 = 618838.0\n",
    "east_1 = 617088.7\n",
    "north_2 = 3353727.0\n",
    "north_1 = 3350929.0\n",
    "\n",
    "east_step = (east_2 - east_1) / (east_num + 1)\n",
    "north_step = (north_2 - north_1) / (north_num + 1)\n",
    "for i in range(east_num):\n",
    "    for j in range(north_num):\n",
    "        temp = [east_1 + (i+1)*east_step, north_1 + (j+1)*north_step, \"gauge_{0}_{1}\".format(i,j), 0]\n",
    "        gauges_2.append(temp)\n",
    "with open(\"aw_small_gauges2.csv\", \"wb\") as f:\n",
    "    writer = csv.writer(f)\n",
    "    writer.writerows(gauges_2)"
   ]
  },
  {
   "cell_type": "code",
   "execution_count": 4,
   "metadata": {},
   "outputs": [],
   "source": [
    "# define the interior area extents\n",
    "p1_x = 613355.00\n",
    "p1_y = 3355147.00\n",
    "p2_x = 615545.00\n",
    "p2_y = 3355920.00\n",
    "p3_x = 615803.00\n",
    "p3_y = 3350714.00\n",
    "p4_x = 621164.00\n",
    "p4_y = 3345740.00\n",
    "p5_x = 627272.00\n",
    "p5_y = 3344245.00\n",
    "p6_x = 6306704.00\n",
    "p6_y = 334162.00\n",
    "p7_x = 635235.00\n",
    "p7_y = 3341410.00\n",
    "p8_x = 635235.00\n",
    "p8_y = 3347621.00\n",
    "p9_x = 630029.00\n",
    "p9_y = 3350637.00\n",
    "p10_x = 622891.00\n",
    "p10_y = 3348755.00\n",
    "p11_x = 618484.00\n",
    "p11_y = 3351410.00\n",
    "p12_x = 618973.00\n",
    "p12_y = 3357131.00\n",
    "p13_x = 615314.00\n",
    "p13_y = 3359780.00\n",
    "p14_x = 613355.00\n",
    "p14_y = 3358059.00\n",
    "\n",
    "extent = [[p1_x, p1_y],[p2_x, p2_y],[p3_x, p3_y],[p4_x, p4_y],[p5_x, p5_y],[p6_x, p6_y],[p7_x, p7_y],[p8_x, p8_y],[p9_x, p9_y],[p10_x, p10_y],[p11_x, p11_y],[p12_x, p12_y],[p13_x, p13_y],[p14_x, p14_y]]\n",
    "with open(\"aw_small_river.csv\", \"wb\") as f:\n",
    "    writer = csv.writer(f)\n",
    "    writer.writerows(extent)"
   ]
  },
  {
   "cell_type": "code",
   "execution_count": null,
   "metadata": {},
   "outputs": [],
   "source": []
  },
  {
   "cell_type": "code",
   "execution_count": 7,
   "metadata": {},
   "outputs": [],
   "source": [
    "n = 3\n",
    "square_num = int(n*n)\n",
    "# define rain area \n",
    "east_1 = 613355.00\n",
    "east_2 = 635235.00\n",
    "north_1 = 3338987.00\n",
    "north_2 = 3359785.00\n",
    "dt_east = (east_2 - east_1-1) / n\n",
    "dt_north = (north_2 - north_1 - 1) / n\n",
    "for i in range(square_num):\n",
    "    p = int(i/3.0)\n",
    "    q = int(i - 3*p)\n",
    "    p1_x = east_1 + 1/3.0 + p*dt_east\n",
    "    p1_y = north_1 + 1/3.0 + q*dt_north\n",
    "    p2_x = east_1 + 1/3.0 + (p+1)*dt_east\n",
    "    p2_y = north_1 + 1/3.0 + q*dt_north\n",
    "    p3_x = east_1 + 1/3.0 + (p+1)*dt_east\n",
    "    p3_y = north_1 + 1/3.0 + (q+1)*dt_north\n",
    "    p4_x = east_1 + 1/3.0 + p*dt_east\n",
    "    p4_y = north_1 + 1/3.0 + (q+1)*dt_north\n",
    "    extent = [[p1_x, p1_y],[p2_x, p2_y],[p3_x, p3_y],[p4_x, p4_y]]\n",
    "    with open(\"rain_polygon_{0}.csv\".format(i), \"wb\") as f:\n",
    "        writer = csv.writer(f)\n",
    "        writer.writerows(extent)"
   ]
  },
  {
   "cell_type": "code",
   "execution_count": 8,
   "metadata": {},
   "outputs": [
    {
     "name": "stdout",
     "output_type": "stream",
     "text": [
      "617001.833333\n",
      "3342453.5\n",
      "-3646.5\n",
      "617001.833333\n",
      "3349385.83333\n",
      "-3646.5\n",
      "617001.833333\n",
      "3356318.16667\n",
      "-3646.5\n",
      "624294.833333\n",
      "3342453.5\n",
      "-3646.5\n",
      "624294.833333\n",
      "3349385.83333\n",
      "-3646.5\n",
      "624294.833333\n",
      "3356318.16667\n",
      "-3646.5\n",
      "631587.833333\n",
      "3342453.5\n",
      "-3646.5\n",
      "631587.833333\n",
      "3349385.83333\n",
      "-3646.5\n",
      "631587.833333\n",
      "3356318.16667\n",
      "-3646.5\n"
     ]
    }
   ],
   "source": [
    "# center and radius of the inflow input\n",
    "for i in range(square_num):\n",
    "    p = int(i/3.0)\n",
    "    q = int(i - 3*p)\n",
    "    p1_x = east_1 + 1/3.0 + p*dt_east\n",
    "    p2_y = north_1 + 1/3.0 + q*dt_north\n",
    "    p3_x = east_1 + 1/3.0 + (p+1)*dt_east\n",
    "    p3_y = north_1 + 1/3.0 + (q+1)*dt_north\n",
    "    print((p1_x+p3_x)/2.0)\n",
    "    print((p2_y+p3_y)/2.0)\n",
    "    print(min((p1_x-p3_x)/2.0,(p2_y-p3_y)/2.0))"
   ]
  },
  {
   "cell_type": "code",
   "execution_count": 17,
   "metadata": {},
   "outputs": [
    {
     "data": {
      "image/png": "[encoded data removed]",
      "text/plain": [
       "<Figure size 432x288 with 1 Axes>"
      ]
     },
     "metadata": {
      "needs_background": "light"
     },
     "output_type": "display_data"
    }
   ],
   "source": [
    "import matplotlib.pyplot as plt\n",
    "# a is the decaying rate ,the higher it is, the faster is decays\n",
    "# h is the peak rain rate\n",
    "# st is the starting time\n",
    "# begin_time is the stable time\n",
    "# dt is the time from starting to a peak\n",
    "begin_time = 40*60.0\n",
    "t = np.linspace(0, 10.0*60*60, num = 300)\n",
    "st = 50.0*60\n",
    "dt = 50.0*60\n",
    "h = 7000.0\n",
    "a = 1.0\n",
    "b = (st/60/60+dt/60/60) + np.log(h)/a\n",
    "f = np.maximum(np.minimum(h/(dt/60/60)*((t-begin_time)/(60*60) - st/60/60),np.exp(-a*((t-begin_time)/(60*60)-b))),0)\n",
    "plt.plot(f)\n",
    "plt.show()"
   ]
  },
  {
   "cell_type": "code",
   "execution_count": 47,
   "metadata": {},
   "outputs": [
    {
     "data": {
      "text/plain": [
       "array([0.01242333])"
      ]
     },
     "execution_count": 47,
     "metadata": {},
     "output_type": "execute_result"
    }
   ],
   "source": [
    "np.random.rand(1)"
   ]
  }
 ],
 "metadata": {
  "kernelspec": {
   "display_name": "Python 2",
   "language": "python",
   "name": "python2"
  },
  "language_info": {
   "codemirror_mode": {
    "name": "ipython",
    "version": 2
   },
   "file_extension": ".py",
   "mimetype": "text/x-python",
   "name": "python",
   "nbconvert_exporter": "python",
   "pygments_lexer": "ipython2",
   "version": "2.7.14"
  },
  "varInspector": {
   "cols": {
    "lenName": 16,
    "lenType": 16,
    "lenVar": 40
   },
   "kernels_config": {
    "python": {
     "delete_cmd_postfix": "",
     "delete_cmd_prefix": "del ",
     "library": "var_list.py",
     "varRefreshCmd": "print(var_dic_list())"
    },
    "r": {
     "delete_cmd_postfix": ") ",
     "delete_cmd_prefix": "rm(",
     "library": "var_list.r",
     "varRefreshCmd": "cat(var_dic_list()) "
    }
   },
   "oldHeight": 122.86000000000001,
   "position": {
    "height": "40px",
    "left": "auto",
    "right": "20px",
    "top": "120px",
    "width": "250px"
   },
   "types_to_exclude": [
    "module",
    "function",
    "builtin_function_or_method",
    "instance",
    "_Feature"
   ],
   "varInspector_section_display": "none",
   "window_display": true
  }
 },
 "nbformat": 4,
 "nbformat_minor": 2
}
