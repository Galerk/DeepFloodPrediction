{
 "cells": [
  {
   "cell_type": "code",
   "execution_count": null,
   "metadata": {},
   "outputs": [],
   "source": [
    "import numpy as np\n",
    "\n",
    "def normalization_test(test_input_, test_label_, mu, var):\n",
    "    test_input_normalized = np.zeros(shape = test_input_.shape)\n",
    "    test_label_normalized = np.zeros(shape = test_label_.shape)\n",
    "    for i in range(test_input_.shape[1]):\n",
    "        if var[i] != 0:\n",
    "            test_input_normalized[:,i,:,:] = (test_input_[:,i,:,:] - mu[i]) / np.sqrt(var[i])\n",
    "        else:\n",
    "            test_input_normalized[:,i,:,:] = (test_input_[:,i,:,:] - mu[i])\n",
    "    for i in range(test_input_.shape[1], test_input_.shape[1] + test_label_.shape[1]):\n",
    "        if var[i] != 0:\n",
    "            test_label_normalized[:,i - test_input_.shape[1],:,:] = (test_label_[:,i- test_input_.shape[1],:,:] - mu[i]) / np.sqrt(var[i])\n",
    "        else:\n",
    "            test_label_normalized[:,i - test_input_.shape[1],:,:] = (test_label_[:,i- test_input_.shape[1],:,:] - mu[i])\n",
    "    return test_input_normalized, test_label_normalized\n",
    "\n",
    "def local_area(data_input, data_label, index_x, index_y):\n",
    "    # data_input: the whole matrix of size n*5*114*114\n",
    "    # data_label: the whole matrix of size n*3*114*114\n",
    "    # index_x, index_y: the center of extracted local area\n",
    "    data_input_ = data_input[:,:,(index_x - 15):(index_x + 15), (index_y - 15):(index_y + 15)].copy()\n",
    "    data_label_ = data_label[:,:,index_x ,index_y ].copy()\n",
    "    data_label_ = data_label_.reshape((-1,3,1,1))\n",
    "    return data_input_, data_label_\n",
    "\n",
    "def coord_trans(x,y,channel = 'h'):\n",
    "    # transform from 2D location to the 1D state space loccation\n",
    "    if channel == 'h':\n",
    "        index_ = x * 100 + y\n",
    "    if channel == 'x':\n",
    "        index_ = 100 * 100 + x * 100 + y\n",
    "    if channel == 'y':\n",
    "        index_ = 2 * 100 * 100 + x * 100 + y\n",
    "    return index_\n",
    "\n",
    "def number_to_coord(i):\n",
    "    y = int(np.mod(i,100))\n",
    "    x = int(i/100)\n",
    "    return [x, y]"
   ]
  }
 ],
 "metadata": {
  "kernelspec": {
   "display_name": "Python 3",
   "language": "python",
   "name": "python3"
  },
  "language_info": {
   "codemirror_mode": {
    "name": "ipython",
    "version": 3
   },
   "file_extension": ".py",
   "mimetype": "text/x-python",
   "name": "python",
   "nbconvert_exporter": "python",
   "pygments_lexer": "ipython3",
   "version": "3.6.6"
  }
 },
 "nbformat": 4,
 "nbformat_minor": 2
}
